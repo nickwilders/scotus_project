{
 "cells": [
  {
   "cell_type": "code",
   "execution_count": 3,
   "metadata": {},
   "outputs": [],
   "source": [
    "import pandas as pd \n",
    "\n",
    "supreme = pd.read_csv('supreme_1023.csv')"
   ]
  },
  {
   "cell_type": "code",
   "execution_count": 21,
   "metadata": {},
   "outputs": [
    {
     "data": {
      "text/plain": [
       "70040.0    509\n",
       "70070.0    364\n",
       "70060.0    323\n",
       "70010.0    304\n",
       "70030.0    233\n",
       "70020.0    189\n",
       "70080.0    178\n",
       "70200.0    171\n",
       "70100.0    143\n",
       "70190.0    116\n",
       "70150.0    108\n",
       "70110.0     90\n",
       "70090.0     81\n",
       "70170.0     81\n",
       "70140.0     80\n",
       "70160.0     72\n",
       "70130.0     54\n",
       "70050.0     54\n",
       "70180.0     54\n",
       "70120.0     25\n",
       "Name: issue, dtype: int64"
      ]
     },
     "execution_count": 21,
     "metadata": {},
     "output_type": "execute_result"
    }
   ],
   "source": [
    "supreme[supreme.issueArea==7].issue.value_counts()"
   ]
  },
  {
   "cell_type": "code",
   "execution_count": 22,
   "metadata": {},
   "outputs": [],
   "source": [
    "issues = ['Abortion', 'Anti-Trust (Business Competition)', 'Employment Discrimination', 'Voting', \n",
    "         'Poverty Law / Welfare', 'Fair Labor Standards Act (Unions)', 'State-Level Business Regulation', \n",
    "         'Federal Taxation', 'Freedom of Religion', 'First-Amendment Rights']\n",
    "\n",
    "issue_numbers = [50020,80010,20060,20110,20190,70040,10030,120010,30160,30010]\n",
    "\n",
    "issue_areas = [5,8,2,2,2,7,10,12,3,3]"
   ]
  },
  {
   "cell_type": "code",
   "execution_count": 30,
   "metadata": {},
   "outputs": [
    {
     "data": {
      "text/plain": [
       "10"
      ]
     },
     "execution_count": 30,
     "metadata": {},
     "output_type": "execute_result"
    }
   ],
   "source": [
    "len(issues)"
   ]
  },
  {
   "cell_type": "code",
   "execution_count": 33,
   "metadata": {},
   "outputs": [],
   "source": [
    "df = pd.DataFrame({'issueDescript': issues, 'issueNumnber': issue_numbers,\n",
    "                  'issueArea': issue_areas})"
   ]
  },
  {
   "cell_type": "code",
   "execution_count": 36,
   "metadata": {},
   "outputs": [],
   "source": [
    "df.to_csv('data\\popular_issues_1026')"
   ]
  },
  {
   "cell_type": "code",
   "execution_count": 53,
   "metadata": {},
   "outputs": [],
   "source": [
    "df = df.sort_values(by='issueDescript')\n",
    "df.to_csv('data\\popular_issues_1026')"
   ]
  },
  {
   "cell_type": "code",
   "execution_count": 54,
   "metadata": {},
   "outputs": [
    {
     "data": {
      "text/html": [
       "<div>\n",
       "<style scoped>\n",
       "    .dataframe tbody tr th:only-of-type {\n",
       "        vertical-align: middle;\n",
       "    }\n",
       "\n",
       "    .dataframe tbody tr th {\n",
       "        vertical-align: top;\n",
       "    }\n",
       "\n",
       "    .dataframe thead th {\n",
       "        text-align: right;\n",
       "    }\n",
       "</style>\n",
       "<table border=\"1\" class=\"dataframe\">\n",
       "  <thead>\n",
       "    <tr style=\"text-align: right;\">\n",
       "      <th></th>\n",
       "      <th>issueDescript</th>\n",
       "      <th>issueNumnber</th>\n",
       "      <th>issueArea</th>\n",
       "    </tr>\n",
       "  </thead>\n",
       "  <tbody>\n",
       "    <tr>\n",
       "      <th>0</th>\n",
       "      <td>Abortion</td>\n",
       "      <td>50020</td>\n",
       "      <td>5</td>\n",
       "    </tr>\n",
       "    <tr>\n",
       "      <th>1</th>\n",
       "      <td>Anti-Trust (Business Competition)</td>\n",
       "      <td>80010</td>\n",
       "      <td>8</td>\n",
       "    </tr>\n",
       "    <tr>\n",
       "      <th>2</th>\n",
       "      <td>Employment Discrimination</td>\n",
       "      <td>20060</td>\n",
       "      <td>2</td>\n",
       "    </tr>\n",
       "    <tr>\n",
       "      <th>5</th>\n",
       "      <td>Fair Labor Standards Act (Unions)</td>\n",
       "      <td>70040</td>\n",
       "      <td>7</td>\n",
       "    </tr>\n",
       "    <tr>\n",
       "      <th>7</th>\n",
       "      <td>Federal Taxation</td>\n",
       "      <td>120010</td>\n",
       "      <td>12</td>\n",
       "    </tr>\n",
       "    <tr>\n",
       "      <th>9</th>\n",
       "      <td>First-Amendment Rights</td>\n",
       "      <td>30010</td>\n",
       "      <td>3</td>\n",
       "    </tr>\n",
       "    <tr>\n",
       "      <th>8</th>\n",
       "      <td>Freedom of Religion</td>\n",
       "      <td>30160</td>\n",
       "      <td>3</td>\n",
       "    </tr>\n",
       "    <tr>\n",
       "      <th>4</th>\n",
       "      <td>Poverty Law / Welfare</td>\n",
       "      <td>20190</td>\n",
       "      <td>2</td>\n",
       "    </tr>\n",
       "    <tr>\n",
       "      <th>6</th>\n",
       "      <td>State-Level Business Regulation</td>\n",
       "      <td>10030</td>\n",
       "      <td>10</td>\n",
       "    </tr>\n",
       "    <tr>\n",
       "      <th>3</th>\n",
       "      <td>Voting</td>\n",
       "      <td>20110</td>\n",
       "      <td>2</td>\n",
       "    </tr>\n",
       "  </tbody>\n",
       "</table>\n",
       "</div>"
      ],
      "text/plain": [
       "                       issueDescript  issueNumnber  issueArea\n",
       "0                           Abortion         50020          5\n",
       "1  Anti-Trust (Business Competition)         80010          8\n",
       "2          Employment Discrimination         20060          2\n",
       "5  Fair Labor Standards Act (Unions)         70040          7\n",
       "7                   Federal Taxation        120010         12\n",
       "9             First-Amendment Rights         30010          3\n",
       "8                Freedom of Religion         30160          3\n",
       "4              Poverty Law / Welfare         20190          2\n",
       "6    State-Level Business Regulation         10030         10\n",
       "3                             Voting         20110          2"
      ]
     },
     "execution_count": 54,
     "metadata": {},
     "output_type": "execute_result"
    }
   ],
   "source": [
    "df"
   ]
  },
  {
   "cell_type": "code",
   "execution_count": 56,
   "metadata": {},
   "outputs": [],
   "source": [
    "supreme = pd.read_csv('supreme_1023.csv')"
   ]
  },
  {
   "cell_type": "code",
   "execution_count": 67,
   "metadata": {},
   "outputs": [
    {
     "data": {
      "text/plain": [
       "term\n",
       "1946   -3.241000\n",
       "1947   -2.665000\n",
       "1948   -2.155000\n",
       "1949    3.675000\n",
       "1950    4.131000\n",
       "          ...   \n",
       "2015   -3.138997\n",
       "2016   -2.702832\n",
       "2017   -2.213000\n",
       "2018   -2.338000\n",
       "2019   -2.552000\n",
       "Name: subCourt_MQ, Length: 74, dtype: float64"
      ]
     },
     "execution_count": 67,
     "metadata": {},
     "output_type": "execute_result"
    }
   ],
   "source": [
    "supreme.groupby('term').mean()['subCourt_MQ']"
   ]
  },
  {
   "cell_type": "code",
   "execution_count": 59,
   "metadata": {},
   "outputs": [
    {
     "data": {
      "text/plain": [
       "Index(['Unnamed: 0', 'Unnamed: 0.1', 'Unnamed: 0.1.1', 'caseId', 'docketId',\n",
       "       'caseIssuesId', 'voteId', 'dateDecision', 'decisionType', 'usCite',\n",
       "       'sctCite', 'ledCite', 'lexisCite', 'term', 'naturalCourt', 'chief',\n",
       "       'docket', 'caseName', 'dateArgument', 'dateRearg', 'petitioner',\n",
       "       'petitionerState', 'respondent', 'respondentState', 'jurisdiction',\n",
       "       'adminAction', 'adminActionState', 'threeJudgeFdc', 'caseOrigin',\n",
       "       'caseOriginState', 'caseSource', 'caseSourceState', 'lcDisagreement',\n",
       "       'certReason', 'lcDisposition', 'lcDispositionDirection',\n",
       "       'declarationUncon', 'caseDisposition', 'caseDispositionUnusual',\n",
       "       'partyWinning', 'precedentAlteration', 'voteUnclear', 'issue',\n",
       "       'issueArea', 'decisionDirection', 'decisionDirectionDissent',\n",
       "       'authorityDecision1', 'authorityDecision2', 'lawType', 'lawSupp',\n",
       "       'lawMinor', 'majOpinWriter', 'majOpinAssigner', 'splitVote', 'majVotes',\n",
       "       'minVotes', 'justice', 'justiceName_x', 'vote', 'opinion', 'direction',\n",
       "       'majority', 'firstAgreement', 'secondAgreement', 'justiceName_y',\n",
       "       'martin_quinn', 'post_sd', 'post_med', 'post_025', 'post_975',\n",
       "       'subCourt', 'subCourt_MQ'],\n",
       "      dtype='object')"
      ]
     },
     "execution_count": 59,
     "metadata": {},
     "output_type": "execute_result"
    }
   ],
   "source": [
    "supreme.columns"
   ]
  },
  {
   "cell_type": "code",
   "execution_count": 3,
   "metadata": {},
   "outputs": [
    {
     "ename": "FileNotFoundError",
     "evalue": "[Errno 2] No such file or directory: 'models/knn_3_feature_model_1022.sav'",
     "output_type": "error",
     "traceback": [
      "\u001b[0;31m---------------------------------------------------------------------------\u001b[0m",
      "\u001b[0;31mFileNotFoundError\u001b[0m                         Traceback (most recent call last)",
      "\u001b[0;32m<ipython-input-3-fae6e030567b>\u001b[0m in \u001b[0;36m<module>\u001b[0;34m\u001b[0m\n\u001b[1;32m      1\u001b[0m \u001b[0;32mimport\u001b[0m \u001b[0mpickle\u001b[0m\u001b[0;34m\u001b[0m\u001b[0;34m\u001b[0m\u001b[0m\n\u001b[0;32m----> 2\u001b[0;31m \u001b[0mloaded_model\u001b[0m \u001b[0;34m=\u001b[0m \u001b[0mpickle\u001b[0m\u001b[0;34m.\u001b[0m\u001b[0mload\u001b[0m\u001b[0;34m(\u001b[0m\u001b[0mopen\u001b[0m\u001b[0;34m(\u001b[0m\u001b[0;34m'models/knn_3_feature_model_1022.sav'\u001b[0m\u001b[0;34m,\u001b[0m \u001b[0;34m'rb'\u001b[0m\u001b[0;34m)\u001b[0m\u001b[0;34m)\u001b[0m\u001b[0;34m\u001b[0m\u001b[0;34m\u001b[0m\u001b[0m\n\u001b[0m",
      "\u001b[0;31mFileNotFoundError\u001b[0m: [Errno 2] No such file or directory: 'models/knn_3_feature_model_1022.sav'"
     ]
    }
   ],
   "source": [
    "import pickle\n",
    "loaded_model = pickle.load(open('models/knn_3_feature_model_1022.sav', 'rb'))"
   ]
  },
  {
   "cell_type": "code",
   "execution_count": 2,
   "metadata": {},
   "outputs": [
    {
     "ename": "ModuleNotFoundError",
     "evalue": "No module named 'project_functions'",
     "output_type": "error",
     "traceback": [
      "\u001b[0;31m---------------------------------------------------------------------------\u001b[0m",
      "\u001b[0;31mModuleNotFoundError\u001b[0m                       Traceback (most recent call last)",
      "\u001b[0;32m<ipython-input-2-3ce8392f396f>\u001b[0m in \u001b[0;36m<module>\u001b[0;34m\u001b[0m\n\u001b[0;32m----> 1\u001b[0;31m \u001b[0;32mfrom\u001b[0m \u001b[0mproject_functions\u001b[0m\u001b[0;34m.\u001b[0m\u001b[0mpy\u001b[0m \u001b[0;32mimport\u001b[0m \u001b[0mgraph_by_CJ\u001b[0m\u001b[0;34m\u001b[0m\u001b[0;34m\u001b[0m\u001b[0m\n\u001b[0m",
      "\u001b[0;31mModuleNotFoundError\u001b[0m: No module named 'project_functions'"
     ]
    }
   ],
   "source": [
    "from project_functions.py import graph_by_CJ"
   ]
  },
  {
   "cell_type": "code",
   "execution_count": null,
   "metadata": {},
   "outputs": [],
   "source": []
  }
 ],
 "metadata": {
  "kernelspec": {
   "display_name": "Python 3",
   "language": "python",
   "name": "python3"
  },
  "language_info": {
   "codemirror_mode": {
    "name": "ipython",
    "version": 3
   },
   "file_extension": ".py",
   "mimetype": "text/x-python",
   "name": "python",
   "nbconvert_exporter": "python",
   "pygments_lexer": "ipython3",
   "version": "3.8.3"
  }
 },
 "nbformat": 4,
 "nbformat_minor": 4
}
